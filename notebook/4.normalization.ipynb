{
 "cells": [
  {
   "cell_type": "code",
   "execution_count": 1,
   "metadata": {},
   "outputs": [],
   "source": [
    "import sys\n",
    "#sys.path.remove('/opt/ros/kinetic/lib/python2.7/dist-packages')\n",
    "import cv2\n",
    "#from pytube import YouTube\n",
    "from pathlib import Path\n",
    "\n",
    "import numpy as np\n",
    "import matplotlib.pyplot as plt\n",
    "import torch\n",
    "from tqdm import tqdm\n",
    "from PIL import Image\n",
    "import glob\n",
    "\n",
    "%matplotlib inline"
   ]
  },
  {
   "cell_type": "markdown",
   "metadata": {},
   "source": [
    "# Target"
   ]
  },
  {
   "cell_type": "code",
   "execution_count": 2,
   "metadata": {},
   "outputs": [],
   "source": [
    "def get_target_stats(path) :\n",
    "    image_list = []\n",
    "    min_ankle_array = np.empty([len(glob.glob(str(path)+'/*'))])\n",
    "    height_array = np.empty([len(glob.glob(str(path)+'/*'))])\n",
    "    #print(height_array.shape)\n",
    "    i=0\n",
    "    for filename in glob.glob(str(path)+'/*'):\n",
    "        #print(filename)\n",
    "        target_label = np.asarray(cv2.imread(filename))\n",
    "        target_label = target_label[:,:,0]\n",
    "        height_non_zero_array = (~np.all(target_label == 0, axis=1))\n",
    "        target_ankle = np.max(np.where(height_non_zero_array == 1))\n",
    "        target_head = np.min(np.where(height_non_zero_array == 1))\n",
    "        min_ankle_array[i] = target_ankle\n",
    "        target_height = target_ankle-target_head+1\n",
    "        height_array[i] = target_height\n",
    "        i = i+1\n",
    "        if(i%500 == 0):\n",
    "            print(\"Working for image : \"+str(i))\n",
    "            plt.imshow(target_label)\n",
    "            plt.show()\n",
    "        #im=Image.open(filename)\n",
    "        #image_list.append(im)\n",
    "    avg_min_ankle_target = np.mean(min_ankle_array).astype(np.int16)\n",
    "    avg_height_target = np.mean(height_array).astype(np.int16)\n",
    "    return avg_min_ankle_target,avg_height_target"
   ]
  },
  {
   "cell_type": "code",
   "execution_count": 3,
   "metadata": {},
   "outputs": [
    {
     "name": "stdout",
     "output_type": "stream",
     "text": [
      "487 336\n"
     ]
    }
   ],
   "source": [
    "path = \"../data/target/train_label\"\n",
    "#target_ankle, target_height = get_target_stats(path)\n",
    "target_ankle=487\n",
    "target_height=336\n",
    "print(target_ankle,target_height)"
   ]
  },
  {
   "cell_type": "markdown",
   "metadata": {},
   "source": [
    "# Source"
   ]
  },
  {
   "cell_type": "code",
   "execution_count": 4,
   "metadata": {},
   "outputs": [],
   "source": [
    "def normalize(source_img,avg_min_ankle_target,avg_height_target) :\n",
    "    #takes in the heatmap of the source and returns the source's heatmap normalized according to target\n",
    "    source_img = np.asarray(source_img)[:,:,0]\n",
    "    height_points = (~np.all(source_img == 0, axis=1))\n",
    "    width_points = (~np.all(source_img == 0, axis=0))\n",
    "    ankle = np.max(np.where(height_points == 1))\n",
    "    head = np.min(np.where(height_points == 1))\n",
    "    right = np.max(np.where(width_points == 1))\n",
    "    left = np.min(np.where(width_points == 1))\n",
    "    source_height = ankle-head+1\n",
    "    #print(\"Height of the source is : \"+str(source_height))\n",
    "    source_width = right-left+1\n",
    "    #print(\"Width of the source is : \"+str(source_width))\n",
    "    source_ankle = ankle\n",
    "    source_center_width = int(left+(source_width/2))\n",
    "    source_center_height = int(head+(source_height/2))\n",
    "    #print(\"Center of the source : \"+str(source_center_width)+\", \"+str(source_center_height))\n",
    "    #print(\"Ankle of the source is at : \"+str(source_ankle))\n",
    "    cropped_source_img = source_img[head:ankle+1,left:right+1]\n",
    "    height_ratio = avg_height_target/source_height\n",
    "    #print(\"target : source = 1:\"+str(height_ratio))\n",
    "    new_cropped_img = cv2.resize(cropped_source_img,(int(source_width*height_ratio),int(source_height*height_ratio)))\n",
    "    #print(\"Height and width of new image : \"+str(new_cropped_img.shape))\n",
    "    new_height = new_cropped_img.shape[0]\n",
    "    new_width = new_cropped_img.shape[1]\n",
    "    x = int(source_center_width-(new_width/2))\n",
    "    y = int(avg_min_ankle_target-new_height)\n",
    "    #print(x,y)\n",
    "    new_label = np.zeros([source_img.shape[0],source_img.shape[1]])\n",
    "    new_label[y:y+new_height,x:x+new_width] = new_cropped_img\n",
    "    return new_label"
   ]
  },
  {
   "cell_type": "code",
   "execution_count": 5,
   "metadata": {},
   "outputs": [
    {
     "name": "stdout",
     "output_type": "stream",
     "text": [
      "0124.png\n",
      "0123.png\n",
      "0118.png\n",
      "0119.png\n",
      "0117.png\n",
      "0122.png\n",
      "0121.png\n",
      "0120.png\n"
     ]
    }
   ],
   "source": [
    "path =\"../data/source/test_label\"\n",
    "norm_path=\"../data/source/norm/test_label\"\n",
    "idx=0;\n",
    "for filename in glob.glob(str(path)+'/*'):\n",
    "        #print(filename)\n",
    "    source_img = cv2.imread(filename)\n",
    "    test_img = normalize(source_img, target_ankle, target_height)\n",
    "    name = filename[-8:]\n",
    "    print(name)\n",
    "    cv2.imwrite((str(norm_path)+'/label_'+name), test_img)  \n",
    "    idx+=1"
   ]
  },
  {
   "cell_type": "code",
   "execution_count": 6,
   "metadata": {},
   "outputs": [
    {
     "data": {
      "text/plain": [
       "<matplotlib.image.AxesImage at 0x7f38e602cda0>"
      ]
     },
     "execution_count": 6,
     "metadata": {},
     "output_type": "execute_result"
    },
    {
     "data": {
      "image/png": "[encoded data removed]",
      "text/plain": [
       "<Figure size 432x288 with 1 Axes>"
      ]
     },
     "metadata": {},
     "output_type": "display_data"
    }
   ],
   "source": [
    "plt.imshow(source_img[:,:,0])"
   ]
  },
  {
   "cell_type": "code",
   "execution_count": 7,
   "metadata": {},
   "outputs": [
    {
     "data": {
      "text/plain": [
       "<matplotlib.image.AxesImage at 0x7f38e43bc6d8>"
      ]
     },
     "execution_count": 7,
     "metadata": {},
     "output_type": "execute_result"
    },
    {
     "data": {
      "image/png": "[encoded data removed]",
      "text/plain": [
       "<Figure size 432x288 with 1 Axes>"
      ]
     },
     "metadata": {},
     "output_type": "display_data"
    }
   ],
   "source": [
    "plt.imshow(test_img)"
   ]
  },
  {
   "cell_type": "code",
   "execution_count": null,
   "metadata": {},
   "outputs": [],
   "source": []
  }
 ],
 "metadata": {
  "kernelspec": {
   "display_name": "Python 3",
   "language": "python",
   "name": "python3"
  },
  "language_info": {
   "codemirror_mode": {
    "name": "ipython",
    "version": 3
   },
   "file_extension": ".py",
   "mimetype": "text/x-python",
   "name": "python",
   "nbconvert_exporter": "python",
   "pygments_lexer": "ipython3",
   "version": "3.6.6"
  }
 },
 "nbformat": 4,
 "nbformat_minor": 2
}
